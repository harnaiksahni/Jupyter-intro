{
 "cells": [
  {
   "cell_type": "markdown",
   "id": "d40b2f64",
   "metadata": {},
   "source": [
    "# data science tools and ecosystem\n"
   ]
  },
  {
   "cell_type": "markdown",
   "id": "1a95898c",
   "metadata": {},
   "source": [
    "\n",
    "## In this notebook, Data Science Tools and Ecosystem are summarized"
   ]
  },
  {
   "cell_type": "markdown",
   "id": "99ea26f9",
   "metadata": {},
   "source": [
    "## Popular language for data science tools\n",
    "\n",
    "1. R \n",
    "2. Python\n",
    "3. spss\n",
    "4. Tableau"
   ]
  },
  {
   "cell_type": "markdown",
   "id": "51171951",
   "metadata": {},
   "source": [
    "## Some of the commonly used libraries used by Data Scientists include:\n",
    "\n",
    "1. Pandas\n",
    "2. Numpy\n",
    "3. Caret\n",
    "4. Tensorflow\n",
    "5. ggplot"
   ]
  },
  {
   "cell_type": "code",
   "execution_count": 3,
   "id": "96b03544",
   "metadata": {},
   "outputs": [
    {
     "ename": "SyntaxError",
     "evalue": "invalid syntax (2861912223.py, line 1)",
     "output_type": "error",
     "traceback": [
      "\u001b[1;36m  Cell \u001b[1;32mIn[3], line 1\u001b[1;36m\u001b[0m\n\u001b[1;33m    | Data Science Tools || R || Python || Pytorch |\u001b[0m\n\u001b[1;37m    ^\u001b[0m\n\u001b[1;31mSyntaxError\u001b[0m\u001b[1;31m:\u001b[0m invalid syntax\n"
     ]
    }
   ],
   "source": []
  },
  {
   "cell_type": "markdown",
   "id": "daf8037b",
   "metadata": {},
   "source": []
  },
  {
   "cell_type": "markdown",
   "id": "943bdaa7",
   "metadata": {},
   "source": []
  },
  {
   "cell_type": "markdown",
   "id": "f8c4aec7",
   "metadata": {},
   "source": []
  },
  {
   "cell_type": "markdown",
   "id": "08e438a4",
   "metadata": {},
   "source": []
  },
  {
   "cell_type": "markdown",
   "id": "b29371cd",
   "metadata": {},
   "source": []
  },
  {
   "cell_type": "markdown",
   "id": "34457bdb",
   "metadata": {},
   "source": [
    "| Data Science Tools | R | Python | Pytorch |\n",
    "|--------------------|--|----------|--------|"
   ]
  },
  {
   "cell_type": "markdown",
   "id": "592b8d6b",
   "metadata": {},
   "source": [
    "### below are few arthemetic operations\n",
    " 1+2 =3 \n",
    " \n",
    " 2*3 =6 \n"
   ]
  },
  {
   "cell_type": "code",
   "execution_count": 5,
   "id": "22164c8e",
   "metadata": {},
   "outputs": [
    {
     "data": {
      "text/plain": [
       "17"
      ]
     },
     "execution_count": 5,
     "metadata": {},
     "output_type": "execute_result"
    }
   ],
   "source": [
    "#his a simple arithmetic expression to mutiply then add integers\n",
    "(3*4)+5"
   ]
  },
  {
   "cell_type": "code",
   "execution_count": 7,
   "id": "856af82a",
   "metadata": {},
   "outputs": [
    {
     "data": {
      "text/plain": [
       "17"
      ]
     },
     "execution_count": 7,
     "metadata": {},
     "output_type": "execute_result"
    }
   ],
   "source": [
    "#other way\n",
    "a=3\n",
    "b=4\n",
    "c=5\n",
    "(a*b)+c"
   ]
  },
  {
   "cell_type": "code",
   "execution_count": 11,
   "id": "81f5011d",
   "metadata": {},
   "outputs": [
    {
     "data": {
      "text/plain": [
       "3.3333333333333335"
      ]
     },
     "execution_count": 11,
     "metadata": {},
     "output_type": "execute_result"
    }
   ],
   "source": [
    "#convert minute into hours\n",
    "#1 hour = 60 minutes\n",
    "# 200 minutes= 200/60 hours\n",
    "a = 200\n",
    "no_of_hours = a/60\n",
    "no_of_hours"
   ]
  },
  {
   "cell_type": "markdown",
   "id": "ecc7303a",
   "metadata": {},
   "source": [
    "# Objectives\n",
    "\n",
    "+ python offerlibraries like pandas numpy matplotlib \n",
    "+ R provide wide range of packages fr statistical analysis , data visaualization\n",
    "+ jupyter allows you to create and share documents containing code, equation ,visualization\n"
   ]
  },
  {
   "cell_type": "markdown",
   "id": "dc49744d",
   "metadata": {},
   "source": [
    "## Author\n",
    "Harnaik Singh"
   ]
  },
  {
   "cell_type": "code",
   "execution_count": null,
   "id": "8093e90d",
   "metadata": {},
   "outputs": [],
   "source": []
  }
 ],
 "metadata": {
  "kernelspec": {
   "display_name": "Python 3 (ipykernel)",
   "language": "python",
   "name": "python3"
  },
  "language_info": {
   "codemirror_mode": {
    "name": "ipython",
    "version": 3
   },
   "file_extension": ".py",
   "mimetype": "text/x-python",
   "name": "python",
   "nbconvert_exporter": "python",
   "pygments_lexer": "ipython3",
   "version": "3.10.9"
  }
 },
 "nbformat": 4,
 "nbformat_minor": 5
}
